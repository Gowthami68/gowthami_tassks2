{
 "cells": [
  {
   "cell_type": "code",
   "execution_count": 7,
   "id": "114354ed",
   "metadata": {},
   "outputs": [
    {
     "name": "stdout",
     "output_type": "stream",
     "text": [
      "['jan', 'feb', 'mar', 'apr', 'may', 'jun', 'jul', 'aug', 'sep', 'oct', 'nov', 'dec']\n"
     ]
    }
   ],
   "source": [
    "months=[\"jan\",\"feb\",\"mar\",\"apr\",\"may\",\"jun\",\"jul\",\"aug\",\"sep\",\"oct\",\"nov\",\"dec\"]\n",
    "print(months)"
   ]
  },
  {
   "cell_type": "code",
   "execution_count": 18,
   "id": "cc92aba3",
   "metadata": {},
   "outputs": [
    {
     "name": "stdout",
     "output_type": "stream",
     "text": [
      "['january', 'february', 'mar', 'apr', 'may', 'jun', 'jul', 'aug', 'sep', 'oct', 'nov', 'dec']\n",
      "['january', 'february', 'mar', 'apr', 'may', 'jun', 'jul', 'aug', 'sep', 'oct', 'nov', 'dec']\n",
      "['january', 'february', 'mar', 'apr', 'may', 'jun', 'jul', 'aug', 'sep', 'oct', 'nov', 'dec']\n",
      "['january', 'february', 'march', 'apr', 'may', 'jun', 'jul', 'aug', 'sep', 'oct', 'nov', 'dec']\n"
     ]
    }
   ],
   "source": [
    "lst=[\"jan\",\"feb\",\"mar\",\"apr\",\"may\",\"jun\",\"july\",\"aug\",\"sep\",\"oct\",\"nov\",\"dec\"]\n",
    "print(months)\n",
    "months[0]='january'\n",
    "print(months)\n",
    "months[1]='february'\n",
    "print(months)\n",
    "months[2]='march'\n",
    "print(months)\n"
   ]
  },
  {
   "cell_type": "code",
   "execution_count": 31,
   "id": "92e2c31a",
   "metadata": {},
   "outputs": [
    {
     "name": "stdout",
     "output_type": "stream",
     "text": [
      "['january', 'february', 'march', 'april', 'may', 'june', 'luly', 'august', 'october', 'november', 'nov', 'dec']\n",
      "['january', 'february', 'march', 'april', 'may', 'june', 'luly', 'august', 'october', 'november', 'nov', 'dec']\n",
      "['january', 'february', 'march', 'april', 'may', 'june', 'luly', 'august', 'october', 'november', 'nov', 'dec']\n",
      "['january', 'february', 'march', 'april', 'may', 'june', 'july', 'august', 'october', 'november', 'nov', 'dec']\n"
     ]
    }
   ],
   "source": [
    "months[3]='april'\n",
    "print(months)\n",
    "months[4]='may'\n",
    "print(months)\n",
    "months[5]='june'\n",
    "print(months)\n",
    "months[6]='july'\n",
    "print(months)"
   ]
  },
  {
   "cell_type": "code",
   "execution_count": 33,
   "id": "0a860900",
   "metadata": {},
   "outputs": [
    {
     "name": "stdout",
     "output_type": "stream",
     "text": [
      "['january', 'february', 'march', 'april', 'may', 'june', 'july', 'august', 'october', 'november', 'nov', 'dec']\n",
      "['january', 'february', 'march', 'april', 'may', 'june', 'july', 'august', 'september', 'november', 'nov', 'dec']\n",
      "['january', 'february', 'march', 'april', 'may', 'june', 'july', 'august', 'september', 'october', 'nov', 'dec']\n",
      "['january', 'february', 'march', 'april', 'may', 'june', 'july', 'august', 'september', 'october', 'november', 'dec']\n",
      "['january', 'february', 'march', 'april', 'may', 'june', 'july', 'august', 'september', 'october', 'november', 'december']\n"
     ]
    }
   ],
   "source": [
    "months[7]='august'\n",
    "print(months)\n",
    "months[8]='september'\n",
    "print(months)\n",
    "months[9]='october'\n",
    "print(months)\n",
    "months[10]='november'\n",
    "print(months)\n",
    "months[11]='december'\n",
    "print(months)"
   ]
  },
  {
   "cell_type": "code",
   "execution_count": null,
   "id": "275ae4f9",
   "metadata": {},
   "outputs": [],
   "source": []
  },
  {
   "cell_type": "code",
   "execution_count": null,
   "id": "df8a870d",
   "metadata": {},
   "outputs": [],
   "source": []
  },
  {
   "cell_type": "code",
   "execution_count": 35,
   "id": "b986d72d",
   "metadata": {},
   "outputs": [
    {
     "name": "stdout",
     "output_type": "stream",
     "text": [
      "['sunflower', 'rose', 'lotus', 'jasmin', 'hibiscus']\n",
      "['sunflower-yellow', 'rose-organge', 'lotus-pink', 'jasmin-white', 'hibiscus-red']\n"
     ]
    }
   ],
   "source": [
    "flowers=[\"sunflower\",\"rose\",\"lotus\",\"jasmin\",\"hibiscus\"]\n",
    "print(flowers)\n",
    "flowers[0:5]=[\"sunflower-yellow\",\"rose-organge\",\"lotus-pink\",\"jasmin-white\",\"hibiscus-red\"]\n",
    "print(flowers)"
   ]
  },
  {
   "cell_type": "code",
   "execution_count": 37,
   "id": "19fe237e",
   "metadata": {},
   "outputs": [
    {
     "name": "stdout",
     "output_type": "stream",
     "text": [
      "['sunflower', 'rose-organge', 'lotus-pink', 'jasmin-white', 'hibiscus-red']\n"
     ]
    }
   ],
   "source": [
    "flowers[0]=\"sunflower\"\n",
    "print(flowers)"
   ]
  },
  {
   "cell_type": "code",
   "execution_count": 38,
   "id": "390760c8",
   "metadata": {},
   "outputs": [
    {
     "name": "stdout",
     "output_type": "stream",
     "text": [
      "['tagore', 'jhansi', 'kiran', 'murali', 'sanjana', 'mani', 'ravi', 'sandhya', 'varma', 'usha']\n",
      "['tagore-father', 'jhansi-mother', 'kiran-brother', 'murali-husbend', 'sanjana-daughter', 'mani-aunty', 'ravi-uncul', 'sandhya-pinni', 'varna-babai', 'usha-sister']\n"
     ]
    }
   ],
   "source": [
    "family=[\"tagore\",\"jhansi\",\"kiran\",\"murali\",\"sanjana\",\"mani\",\"ravi\",\"sandhya\",\"varma\",\"usha\"]\n",
    "print(family)\n",
    "family[0:10]=[\"tagore-father\",\"jhansi-mother\",\"kiran-brother\",\"murali-husbend\",\"sanjana-daughter\",\"mani-aunty\",\"ravi-uncul\",\"sandhya-pinni\",\"varna-babai\",\"usha-sister\"]\n",
    "print(family)"
   ]
  },
  {
   "cell_type": "code",
   "execution_count": null,
   "id": "84a26b15",
   "metadata": {},
   "outputs": [],
   "source": []
  },
  {
   "cell_type": "code",
   "execution_count": null,
   "id": "df4e483f",
   "metadata": {},
   "outputs": [],
   "source": []
  },
  {
   "cell_type": "code",
   "execution_count": null,
   "id": "3e5a8798",
   "metadata": {},
   "outputs": [],
   "source": []
  },
  {
   "cell_type": "code",
   "execution_count": null,
   "id": "d1f61301",
   "metadata": {},
   "outputs": [],
   "source": []
  },
  {
   "cell_type": "code",
   "execution_count": null,
   "id": "1cc89406",
   "metadata": {},
   "outputs": [],
   "source": []
  }
 ],
 "metadata": {
  "kernelspec": {
   "display_name": "Python 3 (ipykernel)",
   "language": "python",
   "name": "python3"
  },
  "language_info": {
   "codemirror_mode": {
    "name": "ipython",
    "version": 3
   },
   "file_extension": ".py",
   "mimetype": "text/x-python",
   "name": "python",
   "nbconvert_exporter": "python",
   "pygments_lexer": "ipython3",
   "version": "3.10.9"
  }
 },
 "nbformat": 4,
 "nbformat_minor": 5
}
